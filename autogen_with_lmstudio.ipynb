{
 "cells": [
  {
   "cell_type": "code",
   "execution_count": null,
   "metadata": {},
   "outputs": [],
   "source": [
    "!pip install pyautogen -q --progress-bar off"
   ]
  },
  {
   "cell_type": "code",
   "execution_count": null,
   "metadata": {},
   "outputs": [],
   "source": [
    "from autogen import ConversableAgent, UserProxyAgent\n",
    "\n",
    "llm_config = {\n",
    "    \"config_list\": [\n",
    "        {\n",
    "            \"model\": 'anything',\n",
    "            \"api_key\": \"lm-studio\",\n",
    "            \"base_url\": \"http://localhost:1234/v1\",\n",
    "           \n",
    "        },\n",
    "    ]\n",
    "}\n",
    "\n",
    "assistant = ConversableAgent(\n",
    "    \"assistant\",\n",
    "    llm_config=llm_config,\n",
    "    system_message=\"You are a friendly AI Assistant.\",\n",
    ")\n",
    "\n",
    "user_proxy = ConversableAgent(\"user_proxy\")\n",
    "\n",
    "chat_result = user_proxy.initiate_chat(assistant, message=\"Complete the sentence: a quick brown fox...\", max_turns=1)"
   ]
  }
 ],
 "metadata": {
  "kernelspec": {
   "display_name": "base",
   "language": "python",
   "name": "python3"
  },
  "language_info": {
   "codemirror_mode": {
    "name": "ipython",
    "version": 3
   },
   "file_extension": ".py",
   "mimetype": "text/x-python",
   "name": "python",
   "nbconvert_exporter": "python",
   "pygments_lexer": "ipython3",
   "version": "3.12.2"
  }
 },
 "nbformat": 4,
 "nbformat_minor": 2
}
